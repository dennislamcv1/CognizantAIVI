{
 "cells": [
  {
   "cell_type": "markdown",
   "metadata": {
    "id": "jpsxhP9Dr5Af"
   },
   "source": [
    "# Task 1 - Exploratory Data Analysis\n",
    "\n",
    "This notebook will walk you through this task interactively, meaning that once you've imported this notebook into `Google Colab`, you'll be able to run individual cells of code independantly, and see the results as you go.\n",
    "\n",
    "This notebooks is designed for users that have an understanding of Python and data analysis. There will be some helper functions and initial setup code provided, but it will be up to you to perform the analysis and to draw insights!\n",
    "\n",
    "---\n",
    "\n",
    "## Section 1 - Setup\n",
    "\n",
    "First, we need to mount this notebook to our Google Drive folder, in order to access the CSV data file. If you haven't already, watch this video https://www.youtube.com/watch?v=woHxvbBLarQ to help you mount your Google Drive folder."
   ]
  },
  {
   "cell_type": "code",
   "execution_count": 1,
   "metadata": {
    "colab": {
     "base_uri": "https://localhost:8080/"
    },
    "id": "rYuqKbngqhNP",
    "outputId": "b4e6328c-9bbd-4c6f-e100-a72fec8e1a94"
   },
   "outputs": [],
   "source": [
    "#from google.colab import drive\n",
    "#drive.mount('/content/drive')"
   ]
  },
  {
   "cell_type": "markdown",
   "metadata": {
    "id": "rgaQP4eos9jS"
   },
   "source": [
    "In order to view, analyse and manipulate the dataset, we must load it into something called a `dataframe`, which is a way of storing tabulated data in a virtual table. This dataframe will allow us to analyse the data freely. To load it into a dataframe, we will need a package called `Pandas`. We can install pandas with this command:"
   ]
  },
  {
   "cell_type": "code",
   "execution_count": 2,
   "metadata": {
    "colab": {
     "base_uri": "https://localhost:8080/"
    },
    "id": "u5x18BTjqy3o",
    "outputId": "dba929c8-ffeb-4ded-b023-6d7a05f6a080"
   },
   "outputs": [],
   "source": [
    "#!pip install pandas"
   ]
  },
  {
   "cell_type": "markdown",
   "metadata": {
    "id": "Ur2OdJMttaGP"
   },
   "source": [
    "And now we can import this package like so:"
   ]
  },
  {
   "cell_type": "code",
   "execution_count": 3,
   "metadata": {
    "id": "_SP0zwPYq-ef"
   },
   "outputs": [],
   "source": [
    "import pandas as pd"
   ]
  },
  {
   "cell_type": "markdown",
   "metadata": {
    "id": "M5nmOA2Rtd2E"
   },
   "source": [
    "---\n",
    "\n",
    "## Section 2 - Data loading\n",
    "\n",
    "Now that Google Drive is mounted, you can store the CSV file anywhere in your Drive and update the `path` variable below to access it within this notebook. Once we've updated the `path`, let's read this CSV file into a pandas dataframe and see what it looks like"
   ]
  },
  {
   "cell_type": "code",
   "execution_count": 4,
   "metadata": {
    "colab": {
     "base_uri": "https://localhost:8080/",
     "height": 250
    },
    "id": "oDB-Ylm3q_wk",
    "outputId": "b2ae17b8-120e-437c-c3d4-990b6334e0e6"
   },
   "outputs": [
    {
     "data": {
      "text/html": [
       "<div>\n",
       "<style scoped>\n",
       "    .dataframe tbody tr th:only-of-type {\n",
       "        vertical-align: middle;\n",
       "    }\n",
       "\n",
       "    .dataframe tbody tr th {\n",
       "        vertical-align: top;\n",
       "    }\n",
       "\n",
       "    .dataframe thead th {\n",
       "        text-align: right;\n",
       "    }\n",
       "</style>\n",
       "<table border=\"1\" class=\"dataframe\">\n",
       "  <thead>\n",
       "    <tr style=\"text-align: right;\">\n",
       "      <th></th>\n",
       "      <th>transaction_id</th>\n",
       "      <th>timestamp</th>\n",
       "      <th>product_id</th>\n",
       "      <th>category</th>\n",
       "      <th>customer_type</th>\n",
       "      <th>unit_price</th>\n",
       "      <th>quantity</th>\n",
       "      <th>total</th>\n",
       "      <th>payment_type</th>\n",
       "    </tr>\n",
       "  </thead>\n",
       "  <tbody>\n",
       "    <tr>\n",
       "      <th>0</th>\n",
       "      <td>a1c82654-c52c-45b3-8ce8-4c2a1efe63ed</td>\n",
       "      <td>2/3/2022 9:51</td>\n",
       "      <td>3bc6c1ea-0198-46de-9ffd-514ae3338713</td>\n",
       "      <td>fruit</td>\n",
       "      <td>gold</td>\n",
       "      <td>3.99</td>\n",
       "      <td>2</td>\n",
       "      <td>7.98</td>\n",
       "      <td>e-wallet</td>\n",
       "    </tr>\n",
       "    <tr>\n",
       "      <th>1</th>\n",
       "      <td>931ad550-09e8-4da6-beaa-8c9d17be9c60</td>\n",
       "      <td>6/3/2022 10:33</td>\n",
       "      <td>ad81b46c-bf38-41cf-9b54-5fe7f5eba93e</td>\n",
       "      <td>fruit</td>\n",
       "      <td>standard</td>\n",
       "      <td>3.99</td>\n",
       "      <td>1</td>\n",
       "      <td>3.99</td>\n",
       "      <td>e-wallet</td>\n",
       "    </tr>\n",
       "    <tr>\n",
       "      <th>2</th>\n",
       "      <td>ae133534-6f61-4cd6-b6b8-d1c1d8d90aea</td>\n",
       "      <td>4/3/2022 17:20</td>\n",
       "      <td>7c55cbd4-f306-4c04-a030-628cbe7867c1</td>\n",
       "      <td>fruit</td>\n",
       "      <td>premium</td>\n",
       "      <td>0.19</td>\n",
       "      <td>2</td>\n",
       "      <td>0.38</td>\n",
       "      <td>e-wallet</td>\n",
       "    </tr>\n",
       "    <tr>\n",
       "      <th>3</th>\n",
       "      <td>157cebd9-aaf0-475d-8a11-7c8e0f5b76e4</td>\n",
       "      <td>2/3/2022 17:23</td>\n",
       "      <td>80da8348-1707-403f-8be7-9e6deeccc883</td>\n",
       "      <td>fruit</td>\n",
       "      <td>gold</td>\n",
       "      <td>0.19</td>\n",
       "      <td>4</td>\n",
       "      <td>0.76</td>\n",
       "      <td>e-wallet</td>\n",
       "    </tr>\n",
       "    <tr>\n",
       "      <th>4</th>\n",
       "      <td>a81a6cd3-5e0c-44a2-826c-aea43e46c514</td>\n",
       "      <td>5/3/2022 14:32</td>\n",
       "      <td>7f5e86e6-f06f-45f6-bf44-27b095c9ad1d</td>\n",
       "      <td>fruit</td>\n",
       "      <td>basic</td>\n",
       "      <td>4.49</td>\n",
       "      <td>2</td>\n",
       "      <td>8.98</td>\n",
       "      <td>debit card</td>\n",
       "    </tr>\n",
       "  </tbody>\n",
       "</table>\n",
       "</div>"
      ],
      "text/plain": [
       "                         transaction_id       timestamp  \\\n",
       "0  a1c82654-c52c-45b3-8ce8-4c2a1efe63ed   2/3/2022 9:51   \n",
       "1  931ad550-09e8-4da6-beaa-8c9d17be9c60  6/3/2022 10:33   \n",
       "2  ae133534-6f61-4cd6-b6b8-d1c1d8d90aea  4/3/2022 17:20   \n",
       "3  157cebd9-aaf0-475d-8a11-7c8e0f5b76e4  2/3/2022 17:23   \n",
       "4  a81a6cd3-5e0c-44a2-826c-aea43e46c514  5/3/2022 14:32   \n",
       "\n",
       "                             product_id category customer_type  unit_price  \\\n",
       "0  3bc6c1ea-0198-46de-9ffd-514ae3338713    fruit          gold        3.99   \n",
       "1  ad81b46c-bf38-41cf-9b54-5fe7f5eba93e    fruit      standard        3.99   \n",
       "2  7c55cbd4-f306-4c04-a030-628cbe7867c1    fruit       premium        0.19   \n",
       "3  80da8348-1707-403f-8be7-9e6deeccc883    fruit          gold        0.19   \n",
       "4  7f5e86e6-f06f-45f6-bf44-27b095c9ad1d    fruit         basic        4.49   \n",
       "\n",
       "   quantity  total payment_type  \n",
       "0         2   7.98     e-wallet  \n",
       "1         1   3.99     e-wallet  \n",
       "2         2   0.38     e-wallet  \n",
       "3         4   0.76     e-wallet  \n",
       "4         2   8.98   debit card  "
      ]
     },
     "execution_count": 4,
     "metadata": {},
     "output_type": "execute_result"
    }
   ],
   "source": [
    "path = \"sample_sales_data.csv\"\n",
    "df = pd.read_csv(path)\n",
    "df.drop(columns=[\"Unnamed: 0\"], inplace=True, errors='ignore')\n",
    "df.head()"
   ]
  },
  {
   "cell_type": "markdown",
   "metadata": {
    "id": "ZI-Q3zvsGWpl"
   },
   "source": [
    "Using the `.head()` method allows us to see the top 5 (5 by default) rows within the dataframe. We can use `.tail()` to see the bottom 5. If you want to see more than 5 rows, simply enter a number into the parentheses, e.g. `head(10)` or `tail(10)`."
   ]
  },
  {
   "cell_type": "markdown",
   "metadata": {
    "id": "qaXaaIr5Hemv"
   },
   "source": [
    "---\n",
    "\n",
    "## Section 3 - Descriptive statistics\n",
    "\n",
    "In this section, you should try to gain a description of the data, that is: what columns are present, how many null values exist and what data types exists within each column.\n",
    "\n",
    "To get you started an explanation of what the column names mean are provided below:\n",
    "\n",
    "- transaction_id = this is a unique ID that is assigned to each transaction\n",
    "- timestamp = this is the datetime at which the transaction was made\n",
    "- product_id = this is an ID that is assigned to the product that was sold. Each product has a unique ID\n",
    "- category = this is the category that the product is contained within\n",
    "- customer_type = this is the type of customer that made the transaction\n",
    "- unit_price = the price that 1 unit of this item sells for\n",
    "- quantity = the number of units sold for this product within this transaction\n",
    "- total = the total amount payable by the customer\n",
    "- payment_type = the payment method used by the customer\n",
    "\n",
    "After this, you should try to compute some descriptive statistics of the numerical columns within the dataset, such as:\n",
    "\n",
    "- mean\n",
    "- median\n",
    "- count\n",
    "- etc..."
   ]
  },
  {
   "cell_type": "code",
   "execution_count": 5,
   "metadata": {
    "id": "sbf25LDJ7FJG"
   },
   "outputs": [
    {
     "name": "stdout",
     "output_type": "stream",
     "text": [
      "<class 'pandas.core.frame.DataFrame'>\n",
      "RangeIndex: 7829 entries, 0 to 7828\n",
      "Data columns (total 9 columns):\n",
      " #   Column          Non-Null Count  Dtype  \n",
      "---  ------          --------------  -----  \n",
      " 0   transaction_id  7829 non-null   object \n",
      " 1   timestamp       7829 non-null   object \n",
      " 2   product_id      7829 non-null   object \n",
      " 3   category        7829 non-null   object \n",
      " 4   customer_type   7829 non-null   object \n",
      " 5   unit_price      7829 non-null   float64\n",
      " 6   quantity        7829 non-null   int64  \n",
      " 7   total           7829 non-null   float64\n",
      " 8   payment_type    7829 non-null   object \n",
      "dtypes: float64(2), int64(1), object(6)\n",
      "memory usage: 550.6+ KB\n"
     ]
    }
   ],
   "source": [
    "df.info()"
   ]
  },
  {
   "cell_type": "code",
   "execution_count": 6,
   "metadata": {},
   "outputs": [
    {
     "data": {
      "text/html": [
       "<div>\n",
       "<style scoped>\n",
       "    .dataframe tbody tr th:only-of-type {\n",
       "        vertical-align: middle;\n",
       "    }\n",
       "\n",
       "    .dataframe tbody tr th {\n",
       "        vertical-align: top;\n",
       "    }\n",
       "\n",
       "    .dataframe thead th {\n",
       "        text-align: right;\n",
       "    }\n",
       "</style>\n",
       "<table border=\"1\" class=\"dataframe\">\n",
       "  <thead>\n",
       "    <tr style=\"text-align: right;\">\n",
       "      <th></th>\n",
       "      <th>transaction_id</th>\n",
       "      <th>timestamp</th>\n",
       "      <th>product_id</th>\n",
       "      <th>category</th>\n",
       "      <th>customer_type</th>\n",
       "      <th>unit_price</th>\n",
       "      <th>quantity</th>\n",
       "      <th>total</th>\n",
       "      <th>payment_type</th>\n",
       "    </tr>\n",
       "  </thead>\n",
       "  <tbody>\n",
       "    <tr>\n",
       "      <th>count</th>\n",
       "      <td>7829</td>\n",
       "      <td>7829</td>\n",
       "      <td>7829</td>\n",
       "      <td>7829</td>\n",
       "      <td>7829</td>\n",
       "      <td>7829.000000</td>\n",
       "      <td>7829.000000</td>\n",
       "      <td>7829.000000</td>\n",
       "      <td>7829</td>\n",
       "    </tr>\n",
       "    <tr>\n",
       "      <th>unique</th>\n",
       "      <td>7829</td>\n",
       "      <td>3759</td>\n",
       "      <td>300</td>\n",
       "      <td>22</td>\n",
       "      <td>5</td>\n",
       "      <td>NaN</td>\n",
       "      <td>NaN</td>\n",
       "      <td>NaN</td>\n",
       "      <td>4</td>\n",
       "    </tr>\n",
       "    <tr>\n",
       "      <th>top</th>\n",
       "      <td>a1c82654-c52c-45b3-8ce8-4c2a1efe63ed</td>\n",
       "      <td>2/3/2022 10:59</td>\n",
       "      <td>ecac012c-1dec-41d4-9ebd-56fb7166f6d9</td>\n",
       "      <td>fruit</td>\n",
       "      <td>non-member</td>\n",
       "      <td>NaN</td>\n",
       "      <td>NaN</td>\n",
       "      <td>NaN</td>\n",
       "      <td>cash</td>\n",
       "    </tr>\n",
       "    <tr>\n",
       "      <th>freq</th>\n",
       "      <td>1</td>\n",
       "      <td>8</td>\n",
       "      <td>114</td>\n",
       "      <td>998</td>\n",
       "      <td>1601</td>\n",
       "      <td>NaN</td>\n",
       "      <td>NaN</td>\n",
       "      <td>NaN</td>\n",
       "      <td>2027</td>\n",
       "    </tr>\n",
       "    <tr>\n",
       "      <th>mean</th>\n",
       "      <td>NaN</td>\n",
       "      <td>NaN</td>\n",
       "      <td>NaN</td>\n",
       "      <td>NaN</td>\n",
       "      <td>NaN</td>\n",
       "      <td>7.819480</td>\n",
       "      <td>2.501597</td>\n",
       "      <td>19.709905</td>\n",
       "      <td>NaN</td>\n",
       "    </tr>\n",
       "    <tr>\n",
       "      <th>std</th>\n",
       "      <td>NaN</td>\n",
       "      <td>NaN</td>\n",
       "      <td>NaN</td>\n",
       "      <td>NaN</td>\n",
       "      <td>NaN</td>\n",
       "      <td>5.388088</td>\n",
       "      <td>1.122722</td>\n",
       "      <td>17.446680</td>\n",
       "      <td>NaN</td>\n",
       "    </tr>\n",
       "    <tr>\n",
       "      <th>min</th>\n",
       "      <td>NaN</td>\n",
       "      <td>NaN</td>\n",
       "      <td>NaN</td>\n",
       "      <td>NaN</td>\n",
       "      <td>NaN</td>\n",
       "      <td>0.190000</td>\n",
       "      <td>1.000000</td>\n",
       "      <td>0.190000</td>\n",
       "      <td>NaN</td>\n",
       "    </tr>\n",
       "    <tr>\n",
       "      <th>25%</th>\n",
       "      <td>NaN</td>\n",
       "      <td>NaN</td>\n",
       "      <td>NaN</td>\n",
       "      <td>NaN</td>\n",
       "      <td>NaN</td>\n",
       "      <td>3.990000</td>\n",
       "      <td>1.000000</td>\n",
       "      <td>6.570000</td>\n",
       "      <td>NaN</td>\n",
       "    </tr>\n",
       "    <tr>\n",
       "      <th>50%</th>\n",
       "      <td>NaN</td>\n",
       "      <td>NaN</td>\n",
       "      <td>NaN</td>\n",
       "      <td>NaN</td>\n",
       "      <td>NaN</td>\n",
       "      <td>7.190000</td>\n",
       "      <td>3.000000</td>\n",
       "      <td>14.970000</td>\n",
       "      <td>NaN</td>\n",
       "    </tr>\n",
       "    <tr>\n",
       "      <th>75%</th>\n",
       "      <td>NaN</td>\n",
       "      <td>NaN</td>\n",
       "      <td>NaN</td>\n",
       "      <td>NaN</td>\n",
       "      <td>NaN</td>\n",
       "      <td>11.190000</td>\n",
       "      <td>4.000000</td>\n",
       "      <td>28.470000</td>\n",
       "      <td>NaN</td>\n",
       "    </tr>\n",
       "    <tr>\n",
       "      <th>max</th>\n",
       "      <td>NaN</td>\n",
       "      <td>NaN</td>\n",
       "      <td>NaN</td>\n",
       "      <td>NaN</td>\n",
       "      <td>NaN</td>\n",
       "      <td>23.990000</td>\n",
       "      <td>4.000000</td>\n",
       "      <td>95.960000</td>\n",
       "      <td>NaN</td>\n",
       "    </tr>\n",
       "  </tbody>\n",
       "</table>\n",
       "</div>"
      ],
      "text/plain": [
       "                              transaction_id       timestamp  \\\n",
       "count                                   7829            7829   \n",
       "unique                                  7829            3759   \n",
       "top     a1c82654-c52c-45b3-8ce8-4c2a1efe63ed  2/3/2022 10:59   \n",
       "freq                                       1               8   \n",
       "mean                                     NaN             NaN   \n",
       "std                                      NaN             NaN   \n",
       "min                                      NaN             NaN   \n",
       "25%                                      NaN             NaN   \n",
       "50%                                      NaN             NaN   \n",
       "75%                                      NaN             NaN   \n",
       "max                                      NaN             NaN   \n",
       "\n",
       "                                  product_id category customer_type  \\\n",
       "count                                   7829     7829          7829   \n",
       "unique                                   300       22             5   \n",
       "top     ecac012c-1dec-41d4-9ebd-56fb7166f6d9    fruit    non-member   \n",
       "freq                                     114      998          1601   \n",
       "mean                                     NaN      NaN           NaN   \n",
       "std                                      NaN      NaN           NaN   \n",
       "min                                      NaN      NaN           NaN   \n",
       "25%                                      NaN      NaN           NaN   \n",
       "50%                                      NaN      NaN           NaN   \n",
       "75%                                      NaN      NaN           NaN   \n",
       "max                                      NaN      NaN           NaN   \n",
       "\n",
       "         unit_price     quantity        total payment_type  \n",
       "count   7829.000000  7829.000000  7829.000000         7829  \n",
       "unique          NaN          NaN          NaN            4  \n",
       "top             NaN          NaN          NaN         cash  \n",
       "freq            NaN          NaN          NaN         2027  \n",
       "mean       7.819480     2.501597    19.709905          NaN  \n",
       "std        5.388088     1.122722    17.446680          NaN  \n",
       "min        0.190000     1.000000     0.190000          NaN  \n",
       "25%        3.990000     1.000000     6.570000          NaN  \n",
       "50%        7.190000     3.000000    14.970000          NaN  \n",
       "75%       11.190000     4.000000    28.470000          NaN  \n",
       "max       23.990000     4.000000    95.960000          NaN  "
      ]
     },
     "execution_count": 6,
     "metadata": {},
     "output_type": "execute_result"
    }
   ],
   "source": [
    "df.describe(include='all')"
   ]
  },
  {
   "cell_type": "code",
   "execution_count": 7,
   "metadata": {},
   "outputs": [
    {
     "data": {
      "text/html": [
       "<div>\n",
       "<style scoped>\n",
       "    .dataframe tbody tr th:only-of-type {\n",
       "        vertical-align: middle;\n",
       "    }\n",
       "\n",
       "    .dataframe tbody tr th {\n",
       "        vertical-align: top;\n",
       "    }\n",
       "\n",
       "    .dataframe thead th {\n",
       "        text-align: right;\n",
       "    }\n",
       "</style>\n",
       "<table border=\"1\" class=\"dataframe\">\n",
       "  <thead>\n",
       "    <tr style=\"text-align: right;\">\n",
       "      <th></th>\n",
       "      <th>unit_price</th>\n",
       "      <th>quantity</th>\n",
       "      <th>total</th>\n",
       "    </tr>\n",
       "    <tr>\n",
       "      <th>product_id</th>\n",
       "      <th></th>\n",
       "      <th></th>\n",
       "      <th></th>\n",
       "    </tr>\n",
       "  </thead>\n",
       "  <tbody>\n",
       "    <tr>\n",
       "      <th>00e120bb-89d6-4df5-bc48-a051148e3d03</th>\n",
       "      <td>11.19</td>\n",
       "      <td>2.421053</td>\n",
       "      <td>27.091579</td>\n",
       "    </tr>\n",
       "    <tr>\n",
       "      <th>01f3cdd9-8e9e-4dff-9b5c-69698a0388d0</th>\n",
       "      <td>1.49</td>\n",
       "      <td>2.605263</td>\n",
       "      <td>3.881842</td>\n",
       "    </tr>\n",
       "    <tr>\n",
       "      <th>01ff0803-ae73-4234-971d-5713c97b7f4b</th>\n",
       "      <td>14.19</td>\n",
       "      <td>2.380952</td>\n",
       "      <td>33.785714</td>\n",
       "    </tr>\n",
       "    <tr>\n",
       "      <th>02b1a5a2-cd74-4e64-80f0-4667372bc394</th>\n",
       "      <td>7.99</td>\n",
       "      <td>2.375000</td>\n",
       "      <td>18.976250</td>\n",
       "    </tr>\n",
       "    <tr>\n",
       "      <th>0363eb21-8c74-47e1-a216-c37e565e5ceb</th>\n",
       "      <td>20.19</td>\n",
       "      <td>2.818182</td>\n",
       "      <td>56.899091</td>\n",
       "    </tr>\n",
       "    <tr>\n",
       "      <th>...</th>\n",
       "      <td>...</td>\n",
       "      <td>...</td>\n",
       "      <td>...</td>\n",
       "    </tr>\n",
       "    <tr>\n",
       "      <th>fa9fa800-cd49-4702-b94f-53a53cd4e610</th>\n",
       "      <td>14.19</td>\n",
       "      <td>1.800000</td>\n",
       "      <td>25.542000</td>\n",
       "    </tr>\n",
       "    <tr>\n",
       "      <th>fbeb39cc-8cd0-4143-bdfb-77658a02dec9</th>\n",
       "      <td>15.49</td>\n",
       "      <td>2.291667</td>\n",
       "      <td>35.497917</td>\n",
       "    </tr>\n",
       "    <tr>\n",
       "      <th>fcc9e0ca-ad36-4925-8306-4369afd6cd41</th>\n",
       "      <td>0.19</td>\n",
       "      <td>2.500000</td>\n",
       "      <td>0.475000</td>\n",
       "    </tr>\n",
       "    <tr>\n",
       "      <th>fd66ac0b-3498-4613-8ec0-764686b0d864</th>\n",
       "      <td>7.99</td>\n",
       "      <td>2.411765</td>\n",
       "      <td>19.270000</td>\n",
       "    </tr>\n",
       "    <tr>\n",
       "      <th>fd77b5cb-498c-40ca-95d1-0f87f13dd0d8</th>\n",
       "      <td>3.19</td>\n",
       "      <td>2.500000</td>\n",
       "      <td>7.975000</td>\n",
       "    </tr>\n",
       "  </tbody>\n",
       "</table>\n",
       "<p>300 rows × 3 columns</p>\n",
       "</div>"
      ],
      "text/plain": [
       "                                      unit_price  quantity      total\n",
       "product_id                                                           \n",
       "00e120bb-89d6-4df5-bc48-a051148e3d03       11.19  2.421053  27.091579\n",
       "01f3cdd9-8e9e-4dff-9b5c-69698a0388d0        1.49  2.605263   3.881842\n",
       "01ff0803-ae73-4234-971d-5713c97b7f4b       14.19  2.380952  33.785714\n",
       "02b1a5a2-cd74-4e64-80f0-4667372bc394        7.99  2.375000  18.976250\n",
       "0363eb21-8c74-47e1-a216-c37e565e5ceb       20.19  2.818182  56.899091\n",
       "...                                          ...       ...        ...\n",
       "fa9fa800-cd49-4702-b94f-53a53cd4e610       14.19  1.800000  25.542000\n",
       "fbeb39cc-8cd0-4143-bdfb-77658a02dec9       15.49  2.291667  35.497917\n",
       "fcc9e0ca-ad36-4925-8306-4369afd6cd41        0.19  2.500000   0.475000\n",
       "fd66ac0b-3498-4613-8ec0-764686b0d864        7.99  2.411765  19.270000\n",
       "fd77b5cb-498c-40ca-95d1-0f87f13dd0d8        3.19  2.500000   7.975000\n",
       "\n",
       "[300 rows x 3 columns]"
      ]
     },
     "execution_count": 7,
     "metadata": {},
     "output_type": "execute_result"
    }
   ],
   "source": [
    "df.groupby(\"product_id\").mean()"
   ]
  },
  {
   "cell_type": "code",
   "execution_count": 8,
   "metadata": {},
   "outputs": [
    {
     "data": {
      "text/html": [
       "<div>\n",
       "<style scoped>\n",
       "    .dataframe tbody tr th:only-of-type {\n",
       "        vertical-align: middle;\n",
       "    }\n",
       "\n",
       "    .dataframe tbody tr th {\n",
       "        vertical-align: top;\n",
       "    }\n",
       "\n",
       "    .dataframe thead th {\n",
       "        text-align: right;\n",
       "    }\n",
       "</style>\n",
       "<table border=\"1\" class=\"dataframe\">\n",
       "  <thead>\n",
       "    <tr style=\"text-align: right;\">\n",
       "      <th></th>\n",
       "      <th>unit_price</th>\n",
       "      <th>quantity</th>\n",
       "      <th>total</th>\n",
       "    </tr>\n",
       "    <tr>\n",
       "      <th>category</th>\n",
       "      <th></th>\n",
       "      <th></th>\n",
       "      <th></th>\n",
       "    </tr>\n",
       "  </thead>\n",
       "  <tbody>\n",
       "    <tr>\n",
       "      <th>baby products</th>\n",
       "      <td>12.285536</td>\n",
       "      <td>2.424107</td>\n",
       "      <td>29.932902</td>\n",
       "    </tr>\n",
       "    <tr>\n",
       "      <th>baked goods</th>\n",
       "      <td>7.619797</td>\n",
       "      <td>2.458239</td>\n",
       "      <td>18.844718</td>\n",
       "    </tr>\n",
       "    <tr>\n",
       "      <th>baking</th>\n",
       "      <td>5.342273</td>\n",
       "      <td>2.454545</td>\n",
       "      <td>13.075076</td>\n",
       "    </tr>\n",
       "    <tr>\n",
       "      <th>beverages</th>\n",
       "      <td>12.624551</td>\n",
       "      <td>2.578073</td>\n",
       "      <td>32.992159</td>\n",
       "    </tr>\n",
       "    <tr>\n",
       "      <th>canned foods</th>\n",
       "      <td>6.269350</td>\n",
       "      <td>2.510441</td>\n",
       "      <td>15.646125</td>\n",
       "    </tr>\n",
       "    <tr>\n",
       "      <th>cheese</th>\n",
       "      <td>8.651775</td>\n",
       "      <td>2.672355</td>\n",
       "      <td>23.417304</td>\n",
       "    </tr>\n",
       "    <tr>\n",
       "      <th>cleaning products</th>\n",
       "      <td>12.802671</td>\n",
       "      <td>2.482877</td>\n",
       "      <td>32.478596</td>\n",
       "    </tr>\n",
       "    <tr>\n",
       "      <th>condiments and sauces</th>\n",
       "      <td>6.886685</td>\n",
       "      <td>2.486188</td>\n",
       "      <td>17.191160</td>\n",
       "    </tr>\n",
       "    <tr>\n",
       "      <th>dairy</th>\n",
       "      <td>7.980133</td>\n",
       "      <td>2.533333</td>\n",
       "      <td>20.137600</td>\n",
       "    </tr>\n",
       "    <tr>\n",
       "      <th>frozen</th>\n",
       "      <td>10.071369</td>\n",
       "      <td>2.509506</td>\n",
       "      <td>25.057414</td>\n",
       "    </tr>\n",
       "    <tr>\n",
       "      <th>fruit</th>\n",
       "      <td>2.503627</td>\n",
       "      <td>2.443888</td>\n",
       "      <td>6.136483</td>\n",
       "    </tr>\n",
       "    <tr>\n",
       "      <th>kitchen</th>\n",
       "      <td>15.100995</td>\n",
       "      <td>2.500000</td>\n",
       "      <td>37.844634</td>\n",
       "    </tr>\n",
       "    <tr>\n",
       "      <th>meat</th>\n",
       "      <td>15.012513</td>\n",
       "      <td>2.458115</td>\n",
       "      <td>36.917042</td>\n",
       "    </tr>\n",
       "    <tr>\n",
       "      <th>medicine</th>\n",
       "      <td>17.148848</td>\n",
       "      <td>2.477366</td>\n",
       "      <td>42.772757</td>\n",
       "    </tr>\n",
       "    <tr>\n",
       "      <th>packaged foods</th>\n",
       "      <td>4.924714</td>\n",
       "      <td>2.524655</td>\n",
       "      <td>12.571400</td>\n",
       "    </tr>\n",
       "    <tr>\n",
       "      <th>personal care</th>\n",
       "      <td>9.198475</td>\n",
       "      <td>2.570621</td>\n",
       "      <td>23.228531</td>\n",
       "    </tr>\n",
       "    <tr>\n",
       "      <th>pets</th>\n",
       "      <td>10.578820</td>\n",
       "      <td>2.453416</td>\n",
       "      <td>26.123913</td>\n",
       "    </tr>\n",
       "    <tr>\n",
       "      <th>refrigerated items</th>\n",
       "      <td>6.922235</td>\n",
       "      <td>2.505882</td>\n",
       "      <td>17.497529</td>\n",
       "    </tr>\n",
       "    <tr>\n",
       "      <th>seafood</th>\n",
       "      <td>16.063518</td>\n",
       "      <td>2.644269</td>\n",
       "      <td>42.509130</td>\n",
       "    </tr>\n",
       "    <tr>\n",
       "      <th>snacks</th>\n",
       "      <td>2.378593</td>\n",
       "      <td>2.479087</td>\n",
       "      <td>5.913232</td>\n",
       "    </tr>\n",
       "    <tr>\n",
       "      <th>spices and herbs</th>\n",
       "      <td>3.080400</td>\n",
       "      <td>2.432000</td>\n",
       "      <td>7.571680</td>\n",
       "    </tr>\n",
       "    <tr>\n",
       "      <th>vegetables</th>\n",
       "      <td>2.368369</td>\n",
       "      <td>2.510638</td>\n",
       "      <td>5.993452</td>\n",
       "    </tr>\n",
       "  </tbody>\n",
       "</table>\n",
       "</div>"
      ],
      "text/plain": [
       "                       unit_price  quantity      total\n",
       "category                                              \n",
       "baby products           12.285536  2.424107  29.932902\n",
       "baked goods              7.619797  2.458239  18.844718\n",
       "baking                   5.342273  2.454545  13.075076\n",
       "beverages               12.624551  2.578073  32.992159\n",
       "canned foods             6.269350  2.510441  15.646125\n",
       "cheese                   8.651775  2.672355  23.417304\n",
       "cleaning products       12.802671  2.482877  32.478596\n",
       "condiments and sauces    6.886685  2.486188  17.191160\n",
       "dairy                    7.980133  2.533333  20.137600\n",
       "frozen                  10.071369  2.509506  25.057414\n",
       "fruit                    2.503627  2.443888   6.136483\n",
       "kitchen                 15.100995  2.500000  37.844634\n",
       "meat                    15.012513  2.458115  36.917042\n",
       "medicine                17.148848  2.477366  42.772757\n",
       "packaged foods           4.924714  2.524655  12.571400\n",
       "personal care            9.198475  2.570621  23.228531\n",
       "pets                    10.578820  2.453416  26.123913\n",
       "refrigerated items       6.922235  2.505882  17.497529\n",
       "seafood                 16.063518  2.644269  42.509130\n",
       "snacks                   2.378593  2.479087   5.913232\n",
       "spices and herbs         3.080400  2.432000   7.571680\n",
       "vegetables               2.368369  2.510638   5.993452"
      ]
     },
     "execution_count": 8,
     "metadata": {},
     "output_type": "execute_result"
    }
   ],
   "source": [
    "df.groupby(\"category\").mean()"
   ]
  },
  {
   "cell_type": "code",
   "execution_count": 9,
   "metadata": {},
   "outputs": [
    {
     "data": {
      "text/html": [
       "<div>\n",
       "<style scoped>\n",
       "    .dataframe tbody tr th:only-of-type {\n",
       "        vertical-align: middle;\n",
       "    }\n",
       "\n",
       "    .dataframe tbody tr th {\n",
       "        vertical-align: top;\n",
       "    }\n",
       "\n",
       "    .dataframe thead th {\n",
       "        text-align: right;\n",
       "    }\n",
       "</style>\n",
       "<table border=\"1\" class=\"dataframe\">\n",
       "  <thead>\n",
       "    <tr style=\"text-align: right;\">\n",
       "      <th></th>\n",
       "      <th>unit_price</th>\n",
       "      <th>quantity</th>\n",
       "      <th>total</th>\n",
       "    </tr>\n",
       "    <tr>\n",
       "      <th>customer_type</th>\n",
       "      <th></th>\n",
       "      <th></th>\n",
       "      <th></th>\n",
       "    </tr>\n",
       "  </thead>\n",
       "  <tbody>\n",
       "    <tr>\n",
       "      <th>basic</th>\n",
       "      <td>7.820079</td>\n",
       "      <td>2.486239</td>\n",
       "      <td>19.376907</td>\n",
       "    </tr>\n",
       "    <tr>\n",
       "      <th>gold</th>\n",
       "      <td>7.888484</td>\n",
       "      <td>2.499011</td>\n",
       "      <td>19.736315</td>\n",
       "    </tr>\n",
       "    <tr>\n",
       "      <th>non-member</th>\n",
       "      <td>7.877071</td>\n",
       "      <td>2.483448</td>\n",
       "      <td>19.834628</td>\n",
       "    </tr>\n",
       "    <tr>\n",
       "      <th>premium</th>\n",
       "      <td>7.804654</td>\n",
       "      <td>2.510692</td>\n",
       "      <td>19.909233</td>\n",
       "    </tr>\n",
       "    <tr>\n",
       "      <th>standard</th>\n",
       "      <td>7.710251</td>\n",
       "      <td>2.527900</td>\n",
       "      <td>19.679486</td>\n",
       "    </tr>\n",
       "  </tbody>\n",
       "</table>\n",
       "</div>"
      ],
      "text/plain": [
       "               unit_price  quantity      total\n",
       "customer_type                                 \n",
       "basic            7.820079  2.486239  19.376907\n",
       "gold             7.888484  2.499011  19.736315\n",
       "non-member       7.877071  2.483448  19.834628\n",
       "premium          7.804654  2.510692  19.909233\n",
       "standard         7.710251  2.527900  19.679486"
      ]
     },
     "execution_count": 9,
     "metadata": {},
     "output_type": "execute_result"
    }
   ],
   "source": [
    "df.groupby(\"customer_type\").mean()"
   ]
  },
  {
   "cell_type": "code",
   "execution_count": 10,
   "metadata": {},
   "outputs": [
    {
     "data": {
      "text/html": [
       "<div>\n",
       "<style scoped>\n",
       "    .dataframe tbody tr th:only-of-type {\n",
       "        vertical-align: middle;\n",
       "    }\n",
       "\n",
       "    .dataframe tbody tr th {\n",
       "        vertical-align: top;\n",
       "    }\n",
       "\n",
       "    .dataframe thead th {\n",
       "        text-align: right;\n",
       "    }\n",
       "</style>\n",
       "<table border=\"1\" class=\"dataframe\">\n",
       "  <thead>\n",
       "    <tr style=\"text-align: right;\">\n",
       "      <th></th>\n",
       "      <th>unit_price</th>\n",
       "      <th>quantity</th>\n",
       "      <th>total</th>\n",
       "    </tr>\n",
       "    <tr>\n",
       "      <th>payment_type</th>\n",
       "      <th></th>\n",
       "      <th></th>\n",
       "      <th></th>\n",
       "    </tr>\n",
       "  </thead>\n",
       "  <tbody>\n",
       "    <tr>\n",
       "      <th>cash</th>\n",
       "      <td>7.900952</td>\n",
       "      <td>2.550074</td>\n",
       "      <td>20.368678</td>\n",
       "    </tr>\n",
       "    <tr>\n",
       "      <th>credit card</th>\n",
       "      <td>8.018579</td>\n",
       "      <td>2.487429</td>\n",
       "      <td>20.169071</td>\n",
       "    </tr>\n",
       "    <tr>\n",
       "      <th>debit card</th>\n",
       "      <td>7.580824</td>\n",
       "      <td>2.519812</td>\n",
       "      <td>19.296491</td>\n",
       "    </tr>\n",
       "    <tr>\n",
       "      <th>e-wallet</th>\n",
       "      <td>7.770155</td>\n",
       "      <td>2.447028</td>\n",
       "      <td>18.967106</td>\n",
       "    </tr>\n",
       "  </tbody>\n",
       "</table>\n",
       "</div>"
      ],
      "text/plain": [
       "              unit_price  quantity      total\n",
       "payment_type                                 \n",
       "cash            7.900952  2.550074  20.368678\n",
       "credit card     8.018579  2.487429  20.169071\n",
       "debit card      7.580824  2.519812  19.296491\n",
       "e-wallet        7.770155  2.447028  18.967106"
      ]
     },
     "execution_count": 10,
     "metadata": {},
     "output_type": "execute_result"
    }
   ],
   "source": [
    "df.groupby(\"payment_type\").mean()"
   ]
  },
  {
   "cell_type": "markdown",
   "metadata": {
    "id": "N-krPtHdHNrh"
   },
   "source": [
    "---\n",
    "\n",
    "## Section 4 - Visualisation\n",
    "\n",
    "Now that you've computed some descriptive statistics of the dataset, let's create some visualisations. You may use any package that you wish for visualisation, however, some helper functions have been provided that make use of the `seaborn` package. If you wish to use these helper functions, ensure to run the below cells that install and import `seaborn`."
   ]
  },
  {
   "cell_type": "code",
   "execution_count": 11,
   "metadata": {
    "colab": {
     "base_uri": "https://localhost:8080/"
    },
    "id": "fT9DrY9RHMrd",
    "outputId": "b792ccca-6123-4bc0-e4f5-8d5888a36450"
   },
   "outputs": [],
   "source": [
    "#!pip install seaborn"
   ]
  },
  {
   "cell_type": "code",
   "execution_count": 12,
   "metadata": {
    "id": "32RDb2C7KOpN"
   },
   "outputs": [],
   "source": [
    "import seaborn as sns"
   ]
  },
  {
   "cell_type": "markdown",
   "metadata": {
    "id": "rNvl5rGeKv-h"
   },
   "source": [
    "To analyse the dataset, below are snippets of code that you can use as helper functions to visualise different columns within the dataset. They include:\n",
    "\n",
    "- plot_continuous_distribution = this is to visualise the distribution of numeric columns\n",
    "- get_unique_values = this is to show how many unique values are present within a column\n",
    "- plot_categorical_distribution = this is to visualise the distribution of categorical columns\n",
    "- correlation_plot = this is to plot the correlations between the numeric columns within the data"
   ]
  },
  {
   "cell_type": "code",
   "execution_count": 13,
   "metadata": {
    "id": "AyUPE4QRKcYQ"
   },
   "outputs": [],
   "source": [
    "def plot_continuous_distribution(data: pd.DataFrame = None, column: str = None, height: int = 8):\n",
    "  _ = sns.displot(data, x=column, kde=True, height=height, aspect=height/5).set(title=f'Distribution of {column}');\n",
    "\n",
    "def get_unique_values(data, column):\n",
    "  num_unique_values = len(data[column].unique())\n",
    "  value_counts = data[column].value_counts()\n",
    "  print(f\"Column: {column} has {num_unique_values} unique values\\n\")\n",
    "  print(value_counts)\n",
    "\n",
    "def plot_categorical_distribution(data: pd.DataFrame = None, column: str = None, height: int = 8, aspect: int = 2):\n",
    "  _ = sns.catplot(data=data, x=column, kind='count', height=height, aspect=aspect).set(title=f'Distribution of {column}');\n",
    "\n",
    "def correlation_plot(data: pd.DataFrame = None):\n",
    "  corr = df.corr()\n",
    "  corr.style.background_gradient(cmap='coolwarm')"
   ]
  },
  {
   "cell_type": "markdown",
   "metadata": {
    "id": "Atm2hxjv70Wr"
   },
   "source": [
    "Now it is your chance to visualise the columns, give it your best shot! As well as simply visualising the columns, try to interpret what the results mean in the context of the client."
   ]
  },
  {
   "cell_type": "code",
   "execution_count": 14,
   "metadata": {},
   "outputs": [
    {
     "data": {
      "text/html": [
       "<div>\n",
       "<style scoped>\n",
       "    .dataframe tbody tr th:only-of-type {\n",
       "        vertical-align: middle;\n",
       "    }\n",
       "\n",
       "    .dataframe tbody tr th {\n",
       "        vertical-align: top;\n",
       "    }\n",
       "\n",
       "    .dataframe thead th {\n",
       "        text-align: right;\n",
       "    }\n",
       "</style>\n",
       "<table border=\"1\" class=\"dataframe\">\n",
       "  <thead>\n",
       "    <tr style=\"text-align: right;\">\n",
       "      <th></th>\n",
       "      <th>unit_price</th>\n",
       "      <th>quantity</th>\n",
       "      <th>total</th>\n",
       "    </tr>\n",
       "  </thead>\n",
       "  <tbody>\n",
       "    <tr>\n",
       "      <th>unit_price</th>\n",
       "      <td>1.000000</td>\n",
       "      <td>0.024588</td>\n",
       "      <td>0.792018</td>\n",
       "    </tr>\n",
       "    <tr>\n",
       "      <th>quantity</th>\n",
       "      <td>0.024588</td>\n",
       "      <td>1.000000</td>\n",
       "      <td>0.521926</td>\n",
       "    </tr>\n",
       "    <tr>\n",
       "      <th>total</th>\n",
       "      <td>0.792018</td>\n",
       "      <td>0.521926</td>\n",
       "      <td>1.000000</td>\n",
       "    </tr>\n",
       "  </tbody>\n",
       "</table>\n",
       "</div>"
      ],
      "text/plain": [
       "            unit_price  quantity     total\n",
       "unit_price    1.000000  0.024588  0.792018\n",
       "quantity      0.024588  1.000000  0.521926\n",
       "total         0.792018  0.521926  1.000000"
      ]
     },
     "execution_count": 14,
     "metadata": {},
     "output_type": "execute_result"
    }
   ],
   "source": [
    "df.corr()"
   ]
  },
  {
   "cell_type": "code",
   "execution_count": 15,
   "metadata": {},
   "outputs": [
    {
     "data": {
      "image/png": "[encoded data removed]",
      "text/plain": [
       "<Figure size 921.6x576 with 1 Axes>"
      ]
     },
     "metadata": {
      "needs_background": "light"
     },
     "output_type": "display_data"
    }
   ],
   "source": [
    "plot_continuous_distribution(data=df, column=\"unit_price\")"
   ]
  },
  {
   "cell_type": "code",
   "execution_count": 16,
   "metadata": {},
   "outputs": [
    {
     "data": {
      "image/png": "[encoded data removed]",
      "text/plain": [
       "<Figure size 921.6x576 with 1 Axes>"
      ]
     },
     "metadata": {
      "needs_background": "light"
     },
     "output_type": "display_data"
    }
   ],
   "source": [
    "plot_continuous_distribution(data=df, column=\"quantity\")"
   ]
  },
  {
   "cell_type": "code",
   "execution_count": 17,
   "metadata": {},
   "outputs": [
    {
     "data": {
      "image/png": "[encoded data removed]",
      "text/plain": [
       "<Figure size 1152x576 with 1 Axes>"
      ]
     },
     "metadata": {
      "needs_background": "light"
     },
     "output_type": "display_data"
    }
   ],
   "source": [
    "plot_categorical_distribution(data=df, column=\"category\")"
   ]
  },
  {
   "cell_type": "code",
   "execution_count": 18,
   "metadata": {},
   "outputs": [
    {
     "data": {
      "image/png": "[encoded data removed]",
      "text/plain": [
       "<Figure size 1152x576 with 1 Axes>"
      ]
     },
     "metadata": {
      "needs_background": "light"
     },
     "output_type": "display_data"
    }
   ],
   "source": [
    "plot_categorical_distribution(data=df, column=\"payment_type\")"
   ]
  },
  {
   "cell_type": "markdown",
   "metadata": {
    "id": "oBin5kdG4iS0"
   },
   "source": [
    "---\n",
    "\n",
    "## Section 5 - Summary\n",
    "\n",
    "We have completed an initial exploratory data analysis on the sample of data provided. We should now have a solid understanding of the data. \n",
    "\n",
    "The client wants to know\n",
    "\n",
    "```\n",
    "\"How to better stock the items that they sell\"\n",
    "```\n",
    "\n",
    "From this dataset, it is impossible to answer that question. In order to make the next step on this project with the client, it is clear that:\n",
    "\n",
    "- We need more rows of data. The current sample is only from 1 store and 1 week worth of data\n",
    "- We need to frame the specific problem statement that we want to solve. The current business problem is too broad, we should narrow down the focus in order to deliver a valuable end product\n",
    "- We need more features. Based on the problem statement that we move forward with, we need more columns (features) that may help us to understand the outcome that we're solving for\n",
    "\n"
   ]
  }
 ],
 "metadata": {
  "colab": {
   "collapsed_sections": [],
   "name": "eda",
   "provenance": []
  },
  "kernelspec": {
   "display_name": "Python 3 (ipykernel)",
   "language": "python",
   "name": "python3"
  },
  "language_info": {
   "codemirror_mode": {
    "name": "ipython",
    "version": 3
   },
   "file_extension": ".py",
   "mimetype": "text/x-python",
   "name": "python",
   "nbconvert_exporter": "python",
   "pygments_lexer": "ipython3",
   "version": "3.8.8"
  }
 },
 "nbformat": 4,
 "nbformat_minor": 1
}
